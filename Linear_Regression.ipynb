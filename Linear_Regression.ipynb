{
  "nbformat": 4,
  "nbformat_minor": 0,
  "metadata": {
    "colab": {
      "provenance": []
    },
    "kernelspec": {
      "name": "python3",
      "display_name": "Python 3"
    },
    "language_info": {
      "name": "python"
    }
  },
  "cells": [
    {
      "cell_type": "markdown",
      "source": [
        "# 1: Problem Introduction & motivation <a class=\"anchor\" id=\"Intro\"></a>\n",
        "\n",
        "The problem is that we need to predict price(MSRP) of a car based on various features. These include make, model, year, engine fuel type, etc. Anybody in the automotive industry woud benefit from the information collected here, specially car dealerships (to set competitive prices) and potential car buyers (to understand the fair market value). Other stakeholders would be insurance companies, that would use the MSRP to calculate premiums."
      ],
      "metadata": {
        "id": "5Bz4FL9zBSdI"
      }
    },
    {
      "cell_type": "markdown",
      "source": [
        "# 2:Data Preparation<a class=\"anchor\" id=\"Data_Preparation\"></a>\n",
        "\n",
        "# 2.1 Get  Data <a class=\"anchor\" id=\"Get_data\"></a>\n"
      ],
      "metadata": {
        "id": "8m15z-h_BX5N"
      }
    },
    {
      "cell_type": "code",
      "execution_count": null,
      "metadata": {
        "colab": {
          "base_uri": "https://localhost:8080/",
          "height": 71
        },
        "id": "EozO-5Ve-zSd",
        "outputId": "343d4c60-8398-438e-f3d6-4be255e136c3"
      },
      "outputs": [
        {
          "output_type": "display_data",
          "data": {
            "text/plain": [
              "<IPython.core.display.HTML object>"
            ],
            "text/html": [
              "\n",
              "     <input type=\"file\" id=\"files-6e30c836-eb3d-4794-8578-bf8f9a47a2cb\" name=\"files[]\" multiple disabled\n",
              "        style=\"border:none\" />\n",
              "     <output id=\"result-6e30c836-eb3d-4794-8578-bf8f9a47a2cb\">\n",
              "      Upload widget is only available when the cell has been executed in the\n",
              "      current browser session. Please rerun this cell to enable.\n",
              "      </output>\n",
              "      <script>// Copyright 2017 Google LLC\n",
              "//\n",
              "// Licensed under the Apache License, Version 2.0 (the \"License\");\n",
              "// you may not use this file except in compliance with the License.\n",
              "// You may obtain a copy of the License at\n",
              "//\n",
              "//      http://www.apache.org/licenses/LICENSE-2.0\n",
              "//\n",
              "// Unless required by applicable law or agreed to in writing, software\n",
              "// distributed under the License is distributed on an \"AS IS\" BASIS,\n",
              "// WITHOUT WARRANTIES OR CONDITIONS OF ANY KIND, either express or implied.\n",
              "// See the License for the specific language governing permissions and\n",
              "// limitations under the License.\n",
              "\n",
              "/**\n",
              " * @fileoverview Helpers for google.colab Python module.\n",
              " */\n",
              "(function(scope) {\n",
              "function span(text, styleAttributes = {}) {\n",
              "  const element = document.createElement('span');\n",
              "  element.textContent = text;\n",
              "  for (const key of Object.keys(styleAttributes)) {\n",
              "    element.style[key] = styleAttributes[key];\n",
              "  }\n",
              "  return element;\n",
              "}\n",
              "\n",
              "// Max number of bytes which will be uploaded at a time.\n",
              "const MAX_PAYLOAD_SIZE = 100 * 1024;\n",
              "\n",
              "function _uploadFiles(inputId, outputId) {\n",
              "  const steps = uploadFilesStep(inputId, outputId);\n",
              "  const outputElement = document.getElementById(outputId);\n",
              "  // Cache steps on the outputElement to make it available for the next call\n",
              "  // to uploadFilesContinue from Python.\n",
              "  outputElement.steps = steps;\n",
              "\n",
              "  return _uploadFilesContinue(outputId);\n",
              "}\n",
              "\n",
              "// This is roughly an async generator (not supported in the browser yet),\n",
              "// where there are multiple asynchronous steps and the Python side is going\n",
              "// to poll for completion of each step.\n",
              "// This uses a Promise to block the python side on completion of each step,\n",
              "// then passes the result of the previous step as the input to the next step.\n",
              "function _uploadFilesContinue(outputId) {\n",
              "  const outputElement = document.getElementById(outputId);\n",
              "  const steps = outputElement.steps;\n",
              "\n",
              "  const next = steps.next(outputElement.lastPromiseValue);\n",
              "  return Promise.resolve(next.value.promise).then((value) => {\n",
              "    // Cache the last promise value to make it available to the next\n",
              "    // step of the generator.\n",
              "    outputElement.lastPromiseValue = value;\n",
              "    return next.value.response;\n",
              "  });\n",
              "}\n",
              "\n",
              "/**\n",
              " * Generator function which is called between each async step of the upload\n",
              " * process.\n",
              " * @param {string} inputId Element ID of the input file picker element.\n",
              " * @param {string} outputId Element ID of the output display.\n",
              " * @return {!Iterable<!Object>} Iterable of next steps.\n",
              " */\n",
              "function* uploadFilesStep(inputId, outputId) {\n",
              "  const inputElement = document.getElementById(inputId);\n",
              "  inputElement.disabled = false;\n",
              "\n",
              "  const outputElement = document.getElementById(outputId);\n",
              "  outputElement.innerHTML = '';\n",
              "\n",
              "  const pickedPromise = new Promise((resolve) => {\n",
              "    inputElement.addEventListener('change', (e) => {\n",
              "      resolve(e.target.files);\n",
              "    });\n",
              "  });\n",
              "\n",
              "  const cancel = document.createElement('button');\n",
              "  inputElement.parentElement.appendChild(cancel);\n",
              "  cancel.textContent = 'Cancel upload';\n",
              "  const cancelPromise = new Promise((resolve) => {\n",
              "    cancel.onclick = () => {\n",
              "      resolve(null);\n",
              "    };\n",
              "  });\n",
              "\n",
              "  // Wait for the user to pick the files.\n",
              "  const files = yield {\n",
              "    promise: Promise.race([pickedPromise, cancelPromise]),\n",
              "    response: {\n",
              "      action: 'starting',\n",
              "    }\n",
              "  };\n",
              "\n",
              "  cancel.remove();\n",
              "\n",
              "  // Disable the input element since further picks are not allowed.\n",
              "  inputElement.disabled = true;\n",
              "\n",
              "  if (!files) {\n",
              "    return {\n",
              "      response: {\n",
              "        action: 'complete',\n",
              "      }\n",
              "    };\n",
              "  }\n",
              "\n",
              "  for (const file of files) {\n",
              "    const li = document.createElement('li');\n",
              "    li.append(span(file.name, {fontWeight: 'bold'}));\n",
              "    li.append(span(\n",
              "        `(${file.type || 'n/a'}) - ${file.size} bytes, ` +\n",
              "        `last modified: ${\n",
              "            file.lastModifiedDate ? file.lastModifiedDate.toLocaleDateString() :\n",
              "                                    'n/a'} - `));\n",
              "    const percent = span('0% done');\n",
              "    li.appendChild(percent);\n",
              "\n",
              "    outputElement.appendChild(li);\n",
              "\n",
              "    const fileDataPromise = new Promise((resolve) => {\n",
              "      const reader = new FileReader();\n",
              "      reader.onload = (e) => {\n",
              "        resolve(e.target.result);\n",
              "      };\n",
              "      reader.readAsArrayBuffer(file);\n",
              "    });\n",
              "    // Wait for the data to be ready.\n",
              "    let fileData = yield {\n",
              "      promise: fileDataPromise,\n",
              "      response: {\n",
              "        action: 'continue',\n",
              "      }\n",
              "    };\n",
              "\n",
              "    // Use a chunked sending to avoid message size limits. See b/62115660.\n",
              "    let position = 0;\n",
              "    do {\n",
              "      const length = Math.min(fileData.byteLength - position, MAX_PAYLOAD_SIZE);\n",
              "      const chunk = new Uint8Array(fileData, position, length);\n",
              "      position += length;\n",
              "\n",
              "      const base64 = btoa(String.fromCharCode.apply(null, chunk));\n",
              "      yield {\n",
              "        response: {\n",
              "          action: 'append',\n",
              "          file: file.name,\n",
              "          data: base64,\n",
              "        },\n",
              "      };\n",
              "\n",
              "      let percentDone = fileData.byteLength === 0 ?\n",
              "          100 :\n",
              "          Math.round((position / fileData.byteLength) * 100);\n",
              "      percent.textContent = `${percentDone}% done`;\n",
              "\n",
              "    } while (position < fileData.byteLength);\n",
              "  }\n",
              "\n",
              "  // All done.\n",
              "  yield {\n",
              "    response: {\n",
              "      action: 'complete',\n",
              "    }\n",
              "  };\n",
              "}\n",
              "\n",
              "scope.google = scope.google || {};\n",
              "scope.google.colab = scope.google.colab || {};\n",
              "scope.google.colab._files = {\n",
              "  _uploadFiles,\n",
              "  _uploadFilesContinue,\n",
              "};\n",
              "})(self);\n",
              "</script> "
            ]
          },
          "metadata": {}
        },
        {
          "output_type": "stream",
          "name": "stdout",
          "text": [
            "Saving data (5).csv to data (5).csv\n"
          ]
        }
      ],
      "source": [
        "\n",
        "from google.colab import files\n",
        "uploaded = files.upload()\n",
        "\n",
        "import pandas as pd\n"
      ]
    },
    {
      "cell_type": "code",
      "source": [
        "import pandas as pd\n",
        "import numpy as np\n",
        "import io\n",
        "\n",
        "# Assuming the file name is 'car_pricing_data.csv' and it's been uploaded\n",
        "data = pd.read_csv(io.BytesIO(uploaded['data (5).csv']))"
      ],
      "metadata": {
        "id": "O93wUcH1NUPl"
      },
      "execution_count": null,
      "outputs": []
    },
    {
      "cell_type": "markdown",
      "source": [
        "# 2.1 Clean data"
      ],
      "metadata": {
        "id": "_dWSTBG0BRlF"
      }
    },
    {
      "cell_type": "markdown",
      "source": [
        "#dealing with categorical columns\n",
        "\n",
        "Machine learning models require all inputs to be numeric, this is why we convert categorical columns to numeric"
      ],
      "metadata": {
        "id": "ZZy2mn-I7pZb"
      }
    },
    {
      "cell_type": "code",
      "source": [
        "# Identify categorical columns\n",
        "categorical_columns = data.select_dtypes(include=['object']).columns\n",
        "\n",
        "# Apply One-Hot Encoding to all categorical columns\n",
        "data = pd.get_dummies(data, columns=categorical_columns)"
      ],
      "metadata": {
        "id": "jNFMSqMZAKsD"
      },
      "execution_count": null,
      "outputs": []
    },
    {
      "cell_type": "markdown",
      "source": [
        "#duplicates\n",
        "\n",
        "let's eliminate duplicates to have a clearer datset"
      ],
      "metadata": {
        "id": "GdGscXf97uJA"
      }
    },
    {
      "cell_type": "code",
      "source": [
        "# Drop duplicates\n",
        "data = data.drop_duplicates()"
      ],
      "metadata": {
        "id": "DwnNWDBnBlVg"
      },
      "execution_count": null,
      "outputs": []
    },
    {
      "cell_type": "markdown",
      "source": [
        "# dealing with missing values\n",
        "\n",
        "In the code below, I've opted to utilize mean and mode for imputation based on their ability to represent the central tendency of our data."
      ],
      "metadata": {
        "id": "k5wNFk3U7xdb"
      }
    },
    {
      "cell_type": "code",
      "source": [
        "# Check for missing values\n",
        "missing_values = data.isnull().sum()\n",
        "print(missing_values[missing_values > 0])\n",
        "\n",
        "# Impute missing numerical features with the median\n",
        "for column in data.select_dtypes(include=np.number).columns:\n",
        "    if data[column].isnull().any():\n",
        "        data[column] = data[column].fillna(data[column].median())\n",
        "\n",
        "# Impute missing categorical features with the mode\n",
        "for column in data.select_dtypes(include=['object']).columns:\n",
        "    if data[column].isnull().any():\n",
        "        data[column] = data[column].fillna(data[column].mode()[0])\n",
        "\n",
        "# Verify there are no missing values left\n",
        "missing_values = data.isnull().sum()\n",
        "print(missing_values[missing_values > 0])\n"
      ],
      "metadata": {
        "colab": {
          "base_uri": "https://localhost:8080/"
        },
        "id": "F7BOFO2gdTqe",
        "outputId": "8dc1bf06-a5f4-4ac2-a7ff-0132f2b132b7"
      },
      "execution_count": null,
      "outputs": [
        {
          "output_type": "stream",
          "name": "stdout",
          "text": [
            "Engine HP           69\n",
            "Engine Cylinders    30\n",
            "Number of Doors      6\n",
            "dtype: int64\n",
            "Series([], dtype: int64)\n"
          ]
        }
      ]
    },
    {
      "cell_type": "markdown",
      "source": [
        "# 2.3 Explore data/ split the data<a class=\"anchor\" id=\"Explore\"></a>\n",
        "\n"
      ],
      "metadata": {
        "id": "7VMg7q82BClx"
      }
    },
    {
      "cell_type": "code",
      "source": [
        "# Descriptive statistics\n",
        "data.describe()"
      ],
      "metadata": {
        "colab": {
          "base_uri": "https://localhost:8080/",
          "height": 301
        },
        "id": "9VbUB-ZEAM3r",
        "outputId": "51b9843e-cb82-4354-a5da-193b3f85a779"
      },
      "execution_count": null,
      "outputs": [
        {
          "output_type": "execute_result",
          "data": {
            "text/plain": [
              "               Year     Engine HP  Engine Cylinders  Number of Doors  \\\n",
              "count  11199.000000  11199.000000      11199.000000     11199.000000   \n",
              "mean    2010.714528    253.300205          5.666845         3.454416   \n",
              "std        7.228211    109.816822          1.794696         0.872804   \n",
              "min     1990.000000     55.000000          0.000000         2.000000   \n",
              "25%     2007.000000    172.000000          4.000000         2.000000   \n",
              "50%     2015.000000    239.000000          6.000000         4.000000   \n",
              "75%     2016.000000    303.000000          6.000000         4.000000   \n",
              "max     2017.000000   1001.000000         16.000000         4.000000   \n",
              "\n",
              "        highway MPG      city mpg    Popularity          MSRP  \n",
              "count  11199.000000  11199.000000  11199.000000  1.119900e+04  \n",
              "mean      26.610590     19.731851   1558.483347  4.192593e+04  \n",
              "std        8.977641      9.177555   1445.668872  6.153505e+04  \n",
              "min       12.000000      7.000000      2.000000  2.000000e+03  \n",
              "25%       22.000000     16.000000    549.000000  2.159950e+04  \n",
              "50%       25.000000     18.000000   1385.000000  3.067500e+04  \n",
              "75%       30.000000     22.000000   2009.000000  4.303250e+04  \n",
              "max      354.000000    137.000000   5657.000000  2.065902e+06  "
            ],
            "text/html": [
              "\n",
              "  <div id=\"df-ce912085-dac0-4d24-b0ea-32a399d7257f\" class=\"colab-df-container\">\n",
              "    <div>\n",
              "<style scoped>\n",
              "    .dataframe tbody tr th:only-of-type {\n",
              "        vertical-align: middle;\n",
              "    }\n",
              "\n",
              "    .dataframe tbody tr th {\n",
              "        vertical-align: top;\n",
              "    }\n",
              "\n",
              "    .dataframe thead th {\n",
              "        text-align: right;\n",
              "    }\n",
              "</style>\n",
              "<table border=\"1\" class=\"dataframe\">\n",
              "  <thead>\n",
              "    <tr style=\"text-align: right;\">\n",
              "      <th></th>\n",
              "      <th>Year</th>\n",
              "      <th>Engine HP</th>\n",
              "      <th>Engine Cylinders</th>\n",
              "      <th>Number of Doors</th>\n",
              "      <th>highway MPG</th>\n",
              "      <th>city mpg</th>\n",
              "      <th>Popularity</th>\n",
              "      <th>MSRP</th>\n",
              "    </tr>\n",
              "  </thead>\n",
              "  <tbody>\n",
              "    <tr>\n",
              "      <th>count</th>\n",
              "      <td>11199.000000</td>\n",
              "      <td>11199.000000</td>\n",
              "      <td>11199.000000</td>\n",
              "      <td>11199.000000</td>\n",
              "      <td>11199.000000</td>\n",
              "      <td>11199.000000</td>\n",
              "      <td>11199.000000</td>\n",
              "      <td>1.119900e+04</td>\n",
              "    </tr>\n",
              "    <tr>\n",
              "      <th>mean</th>\n",
              "      <td>2010.714528</td>\n",
              "      <td>253.300205</td>\n",
              "      <td>5.666845</td>\n",
              "      <td>3.454416</td>\n",
              "      <td>26.610590</td>\n",
              "      <td>19.731851</td>\n",
              "      <td>1558.483347</td>\n",
              "      <td>4.192593e+04</td>\n",
              "    </tr>\n",
              "    <tr>\n",
              "      <th>std</th>\n",
              "      <td>7.228211</td>\n",
              "      <td>109.816822</td>\n",
              "      <td>1.794696</td>\n",
              "      <td>0.872804</td>\n",
              "      <td>8.977641</td>\n",
              "      <td>9.177555</td>\n",
              "      <td>1445.668872</td>\n",
              "      <td>6.153505e+04</td>\n",
              "    </tr>\n",
              "    <tr>\n",
              "      <th>min</th>\n",
              "      <td>1990.000000</td>\n",
              "      <td>55.000000</td>\n",
              "      <td>0.000000</td>\n",
              "      <td>2.000000</td>\n",
              "      <td>12.000000</td>\n",
              "      <td>7.000000</td>\n",
              "      <td>2.000000</td>\n",
              "      <td>2.000000e+03</td>\n",
              "    </tr>\n",
              "    <tr>\n",
              "      <th>25%</th>\n",
              "      <td>2007.000000</td>\n",
              "      <td>172.000000</td>\n",
              "      <td>4.000000</td>\n",
              "      <td>2.000000</td>\n",
              "      <td>22.000000</td>\n",
              "      <td>16.000000</td>\n",
              "      <td>549.000000</td>\n",
              "      <td>2.159950e+04</td>\n",
              "    </tr>\n",
              "    <tr>\n",
              "      <th>50%</th>\n",
              "      <td>2015.000000</td>\n",
              "      <td>239.000000</td>\n",
              "      <td>6.000000</td>\n",
              "      <td>4.000000</td>\n",
              "      <td>25.000000</td>\n",
              "      <td>18.000000</td>\n",
              "      <td>1385.000000</td>\n",
              "      <td>3.067500e+04</td>\n",
              "    </tr>\n",
              "    <tr>\n",
              "      <th>75%</th>\n",
              "      <td>2016.000000</td>\n",
              "      <td>303.000000</td>\n",
              "      <td>6.000000</td>\n",
              "      <td>4.000000</td>\n",
              "      <td>30.000000</td>\n",
              "      <td>22.000000</td>\n",
              "      <td>2009.000000</td>\n",
              "      <td>4.303250e+04</td>\n",
              "    </tr>\n",
              "    <tr>\n",
              "      <th>max</th>\n",
              "      <td>2017.000000</td>\n",
              "      <td>1001.000000</td>\n",
              "      <td>16.000000</td>\n",
              "      <td>4.000000</td>\n",
              "      <td>354.000000</td>\n",
              "      <td>137.000000</td>\n",
              "      <td>5657.000000</td>\n",
              "      <td>2.065902e+06</td>\n",
              "    </tr>\n",
              "  </tbody>\n",
              "</table>\n",
              "</div>\n",
              "    <div class=\"colab-df-buttons\">\n",
              "\n",
              "  <div class=\"colab-df-container\">\n",
              "    <button class=\"colab-df-convert\" onclick=\"convertToInteractive('df-ce912085-dac0-4d24-b0ea-32a399d7257f')\"\n",
              "            title=\"Convert this dataframe to an interactive table.\"\n",
              "            style=\"display:none;\">\n",
              "\n",
              "  <svg xmlns=\"http://www.w3.org/2000/svg\" height=\"24px\" viewBox=\"0 -960 960 960\">\n",
              "    <path d=\"M120-120v-720h720v720H120Zm60-500h600v-160H180v160Zm220 220h160v-160H400v160Zm0 220h160v-160H400v160ZM180-400h160v-160H180v160Zm440 0h160v-160H620v160ZM180-180h160v-160H180v160Zm440 0h160v-160H620v160Z\"/>\n",
              "  </svg>\n",
              "    </button>\n",
              "\n",
              "  <style>\n",
              "    .colab-df-container {\n",
              "      display:flex;\n",
              "      gap: 12px;\n",
              "    }\n",
              "\n",
              "    .colab-df-convert {\n",
              "      background-color: #E8F0FE;\n",
              "      border: none;\n",
              "      border-radius: 50%;\n",
              "      cursor: pointer;\n",
              "      display: none;\n",
              "      fill: #1967D2;\n",
              "      height: 32px;\n",
              "      padding: 0 0 0 0;\n",
              "      width: 32px;\n",
              "    }\n",
              "\n",
              "    .colab-df-convert:hover {\n",
              "      background-color: #E2EBFA;\n",
              "      box-shadow: 0px 1px 2px rgba(60, 64, 67, 0.3), 0px 1px 3px 1px rgba(60, 64, 67, 0.15);\n",
              "      fill: #174EA6;\n",
              "    }\n",
              "\n",
              "    .colab-df-buttons div {\n",
              "      margin-bottom: 4px;\n",
              "    }\n",
              "\n",
              "    [theme=dark] .colab-df-convert {\n",
              "      background-color: #3B4455;\n",
              "      fill: #D2E3FC;\n",
              "    }\n",
              "\n",
              "    [theme=dark] .colab-df-convert:hover {\n",
              "      background-color: #434B5C;\n",
              "      box-shadow: 0px 1px 3px 1px rgba(0, 0, 0, 0.15);\n",
              "      filter: drop-shadow(0px 1px 2px rgba(0, 0, 0, 0.3));\n",
              "      fill: #FFFFFF;\n",
              "    }\n",
              "  </style>\n",
              "\n",
              "    <script>\n",
              "      const buttonEl =\n",
              "        document.querySelector('#df-ce912085-dac0-4d24-b0ea-32a399d7257f button.colab-df-convert');\n",
              "      buttonEl.style.display =\n",
              "        google.colab.kernel.accessAllowed ? 'block' : 'none';\n",
              "\n",
              "      async function convertToInteractive(key) {\n",
              "        const element = document.querySelector('#df-ce912085-dac0-4d24-b0ea-32a399d7257f');\n",
              "        const dataTable =\n",
              "          await google.colab.kernel.invokeFunction('convertToInteractive',\n",
              "                                                    [key], {});\n",
              "        if (!dataTable) return;\n",
              "\n",
              "        const docLinkHtml = 'Like what you see? Visit the ' +\n",
              "          '<a target=\"_blank\" href=https://colab.research.google.com/notebooks/data_table.ipynb>data table notebook</a>'\n",
              "          + ' to learn more about interactive tables.';\n",
              "        element.innerHTML = '';\n",
              "        dataTable['output_type'] = 'display_data';\n",
              "        await google.colab.output.renderOutput(dataTable, element);\n",
              "        const docLink = document.createElement('div');\n",
              "        docLink.innerHTML = docLinkHtml;\n",
              "        element.appendChild(docLink);\n",
              "      }\n",
              "    </script>\n",
              "  </div>\n",
              "\n",
              "\n",
              "<div id=\"df-1914838f-3aa6-4561-bc8c-07105d2a48de\">\n",
              "  <button class=\"colab-df-quickchart\" onclick=\"quickchart('df-1914838f-3aa6-4561-bc8c-07105d2a48de')\"\n",
              "            title=\"Suggest charts\"\n",
              "            style=\"display:none;\">\n",
              "\n",
              "<svg xmlns=\"http://www.w3.org/2000/svg\" height=\"24px\"viewBox=\"0 0 24 24\"\n",
              "     width=\"24px\">\n",
              "    <g>\n",
              "        <path d=\"M19 3H5c-1.1 0-2 .9-2 2v14c0 1.1.9 2 2 2h14c1.1 0 2-.9 2-2V5c0-1.1-.9-2-2-2zM9 17H7v-7h2v7zm4 0h-2V7h2v10zm4 0h-2v-4h2v4z\"/>\n",
              "    </g>\n",
              "</svg>\n",
              "  </button>\n",
              "\n",
              "<style>\n",
              "  .colab-df-quickchart {\n",
              "      --bg-color: #E8F0FE;\n",
              "      --fill-color: #1967D2;\n",
              "      --hover-bg-color: #E2EBFA;\n",
              "      --hover-fill-color: #174EA6;\n",
              "      --disabled-fill-color: #AAA;\n",
              "      --disabled-bg-color: #DDD;\n",
              "  }\n",
              "\n",
              "  [theme=dark] .colab-df-quickchart {\n",
              "      --bg-color: #3B4455;\n",
              "      --fill-color: #D2E3FC;\n",
              "      --hover-bg-color: #434B5C;\n",
              "      --hover-fill-color: #FFFFFF;\n",
              "      --disabled-bg-color: #3B4455;\n",
              "      --disabled-fill-color: #666;\n",
              "  }\n",
              "\n",
              "  .colab-df-quickchart {\n",
              "    background-color: var(--bg-color);\n",
              "    border: none;\n",
              "    border-radius: 50%;\n",
              "    cursor: pointer;\n",
              "    display: none;\n",
              "    fill: var(--fill-color);\n",
              "    height: 32px;\n",
              "    padding: 0;\n",
              "    width: 32px;\n",
              "  }\n",
              "\n",
              "  .colab-df-quickchart:hover {\n",
              "    background-color: var(--hover-bg-color);\n",
              "    box-shadow: 0 1px 2px rgba(60, 64, 67, 0.3), 0 1px 3px 1px rgba(60, 64, 67, 0.15);\n",
              "    fill: var(--button-hover-fill-color);\n",
              "  }\n",
              "\n",
              "  .colab-df-quickchart-complete:disabled,\n",
              "  .colab-df-quickchart-complete:disabled:hover {\n",
              "    background-color: var(--disabled-bg-color);\n",
              "    fill: var(--disabled-fill-color);\n",
              "    box-shadow: none;\n",
              "  }\n",
              "\n",
              "  .colab-df-spinner {\n",
              "    border: 2px solid var(--fill-color);\n",
              "    border-color: transparent;\n",
              "    border-bottom-color: var(--fill-color);\n",
              "    animation:\n",
              "      spin 1s steps(1) infinite;\n",
              "  }\n",
              "\n",
              "  @keyframes spin {\n",
              "    0% {\n",
              "      border-color: transparent;\n",
              "      border-bottom-color: var(--fill-color);\n",
              "      border-left-color: var(--fill-color);\n",
              "    }\n",
              "    20% {\n",
              "      border-color: transparent;\n",
              "      border-left-color: var(--fill-color);\n",
              "      border-top-color: var(--fill-color);\n",
              "    }\n",
              "    30% {\n",
              "      border-color: transparent;\n",
              "      border-left-color: var(--fill-color);\n",
              "      border-top-color: var(--fill-color);\n",
              "      border-right-color: var(--fill-color);\n",
              "    }\n",
              "    40% {\n",
              "      border-color: transparent;\n",
              "      border-right-color: var(--fill-color);\n",
              "      border-top-color: var(--fill-color);\n",
              "    }\n",
              "    60% {\n",
              "      border-color: transparent;\n",
              "      border-right-color: var(--fill-color);\n",
              "    }\n",
              "    80% {\n",
              "      border-color: transparent;\n",
              "      border-right-color: var(--fill-color);\n",
              "      border-bottom-color: var(--fill-color);\n",
              "    }\n",
              "    90% {\n",
              "      border-color: transparent;\n",
              "      border-bottom-color: var(--fill-color);\n",
              "    }\n",
              "  }\n",
              "</style>\n",
              "\n",
              "  <script>\n",
              "    async function quickchart(key) {\n",
              "      const quickchartButtonEl =\n",
              "        document.querySelector('#' + key + ' button');\n",
              "      quickchartButtonEl.disabled = true;  // To prevent multiple clicks.\n",
              "      quickchartButtonEl.classList.add('colab-df-spinner');\n",
              "      try {\n",
              "        const charts = await google.colab.kernel.invokeFunction(\n",
              "            'suggestCharts', [key], {});\n",
              "      } catch (error) {\n",
              "        console.error('Error during call to suggestCharts:', error);\n",
              "      }\n",
              "      quickchartButtonEl.classList.remove('colab-df-spinner');\n",
              "      quickchartButtonEl.classList.add('colab-df-quickchart-complete');\n",
              "    }\n",
              "    (() => {\n",
              "      let quickchartButtonEl =\n",
              "        document.querySelector('#df-1914838f-3aa6-4561-bc8c-07105d2a48de button');\n",
              "      quickchartButtonEl.style.display =\n",
              "        google.colab.kernel.accessAllowed ? 'block' : 'none';\n",
              "    })();\n",
              "  </script>\n",
              "</div>\n",
              "\n",
              "    </div>\n",
              "  </div>\n"
            ],
            "application/vnd.google.colaboratory.intrinsic+json": {
              "type": "dataframe",
              "summary": "{\n  \"name\": \"data\",\n  \"rows\": 8,\n  \"fields\": [\n    {\n      \"column\": \"Year\",\n      \"properties\": {\n        \"dtype\": \"number\",\n        \"std\": 3422.6513878425167,\n        \"min\": 7.228211349830419,\n        \"max\": 11199.0,\n        \"num_unique_values\": 8,\n        \"samples\": [\n          2010.7145280828645,\n          2015.0,\n          11199.0\n        ],\n        \"semantic_type\": \"\",\n        \"description\": \"\"\n      }\n    },\n    {\n      \"column\": \"Engine HP\",\n      \"properties\": {\n        \"dtype\": \"number\",\n        \"std\": 3862.9964993104795,\n        \"min\": 55.0,\n        \"max\": 11199.0,\n        \"num_unique_values\": 8,\n        \"samples\": [\n          253.30020537547995,\n          239.0,\n          11199.0\n        ],\n        \"semantic_type\": \"\",\n        \"description\": \"\"\n      }\n    },\n    {\n      \"column\": \"Engine Cylinders\",\n      \"properties\": {\n        \"dtype\": \"number\",\n        \"std\": 3957.4541439167238,\n        \"min\": 0.0,\n        \"max\": 11199.0,\n        \"num_unique_values\": 7,\n        \"samples\": [\n          11199.0,\n          5.666845254040539,\n          6.0\n        ],\n        \"semantic_type\": \"\",\n        \"description\": \"\"\n      }\n    },\n    {\n      \"column\": \"Number of Doors\",\n      \"properties\": {\n        \"dtype\": \"number\",\n        \"std\": 3958.4179160850545,\n        \"min\": 0.8728035044080816,\n        \"max\": 11199.0,\n        \"num_unique_values\": 5,\n        \"samples\": [\n          3.4544155728190016,\n          4.0,\n          0.8728035044080816\n        ],\n        \"semantic_type\": \"\",\n        \"description\": \"\"\n      }\n    },\n    {\n      \"column\": \"highway MPG\",\n      \"properties\": {\n        \"dtype\": \"number\",\n        \"std\": 3937.0057578230208,\n        \"min\": 8.977640777760246,\n        \"max\": 11199.0,\n        \"num_unique_values\": 8,\n        \"samples\": [\n          26.61059023127065,\n          25.0,\n          11199.0\n        ],\n        \"semantic_type\": \"\",\n        \"description\": \"\"\n      }\n    },\n    {\n      \"column\": \"city mpg\",\n      \"properties\": {\n        \"dtype\": \"number\",\n        \"std\": 3948.115597507146,\n        \"min\": 7.0,\n        \"max\": 11199.0,\n        \"num_unique_values\": 8,\n        \"samples\": [\n          19.73185105813019,\n          18.0,\n          11199.0\n        ],\n        \"semantic_type\": \"\",\n        \"description\": \"\"\n      }\n    },\n    {\n      \"column\": \"Popularity\",\n      \"properties\": {\n        \"dtype\": \"number\",\n        \"std\": 3729.383917146191,\n        \"min\": 2.0,\n        \"max\": 11199.0,\n        \"num_unique_values\": 8,\n        \"samples\": [\n          1558.4833467273863,\n          1385.0,\n          11199.0\n        ],\n        \"semantic_type\": \"\",\n        \"description\": \"\"\n      }\n    },\n    {\n      \"column\": \"MSRP\",\n      \"properties\": {\n        \"dtype\": \"number\",\n        \"std\": 719950.2208368053,\n        \"min\": 2000.0,\n        \"max\": 2065902.0,\n        \"num_unique_values\": 8,\n        \"samples\": [\n          41925.92713635146,\n          30675.0,\n          11199.0\n        ],\n        \"semantic_type\": \"\",\n        \"description\": \"\"\n      }\n    }\n  ]\n}"
            }
          },
          "metadata": {},
          "execution_count": 7
        }
      ]
    },
    {
      "cell_type": "markdown",
      "source": [
        "#Apply pd.get_dummies to the DataFrame"
      ],
      "metadata": {
        "id": "0C3QMsG2gz_M"
      }
    },
    {
      "cell_type": "code",
      "source": [
        "data_with_dummies = pd.get_dummies(data)"
      ],
      "metadata": {
        "id": "gjDlgad5Bwju"
      },
      "execution_count": null,
      "outputs": []
    },
    {
      "cell_type": "markdown",
      "source": [
        "# splitting the data"
      ],
      "metadata": {
        "id": "9MDjqxKy73QG"
      }
    },
    {
      "cell_type": "code",
      "source": [
        "from sklearn.model_selection import train_test_split\n",
        "\n",
        "X = data.drop('MSRP', axis=1)  # or a selection of features\n",
        "y = data['MSRP']\n",
        "\n",
        "# Split the data into a 80% training set and a 20% testing set\n",
        "X_train, X_test, y_train, y_test = train_test_split(X, y, test_size=0.2, random_state=42)"
      ],
      "metadata": {
        "id": "MytCrWby1pjH"
      },
      "execution_count": 11,
      "outputs": []
    },
    {
      "cell_type": "markdown",
      "source": [
        "The ratio of 80/20 is a common choice that balances having enough data to train the model effectively (80%) while still setting aside enough unseen data for testing (20%)."
      ],
      "metadata": {
        "id": "iP4uTLof1sq4"
      }
    },
    {
      "cell_type": "markdown",
      "source": [
        "#visualizations"
      ],
      "metadata": {
        "id": "Bp1GW62K11EN"
      }
    },
    {
      "cell_type": "code",
      "source": [
        "# Visualizations\n",
        "import seaborn as sns\n",
        "import matplotlib.pyplot as plt"
      ],
      "metadata": {
        "id": "OYJFESgBDExq"
      },
      "execution_count": 12,
      "outputs": []
    },
    {
      "cell_type": "code",
      "source": [
        "# Plotting histogram for Engine HP\n",
        "plt.hist(data['Engine HP'], bins=30, edgecolor='black')\n",
        "plt.title('Distribution of Engine Horsepower')\n",
        "plt.xlabel('Engine HP')\n",
        "plt.ylabel('Number of Vehicles')\n",
        "plt.show()"
      ],
      "metadata": {
        "colab": {
          "base_uri": "https://localhost:8080/",
          "height": 472
        },
        "id": "B3qW6538D9ug",
        "outputId": "1b3c18cb-b28a-4951-987e-a8273d38951f"
      },
      "execution_count": 13,
      "outputs": [
        {
          "output_type": "display_data",
          "data": {
            "text/plain": [
              "<Figure size 640x480 with 1 Axes>"
            ],
            "image/png": "[encoded data removed]"
          },
          "metadata": {}
        }
      ]
    },
    {
      "cell_type": "markdown",
      "source": [
        "The bimodal nature of the distribution suggests there are two groups of vehicles with distinct engine horsepower characteristics. Understanding this help us determine if Engine HP is a factor contributing Price, and it seems that there is, most cars are sold between 100 and 300 engine power."
      ],
      "metadata": {
        "id": "zanAaTd_EDRT"
      }
    },
    {
      "cell_type": "code",
      "source": [
        "# Scatter plot of 'Engine HP' vs 'MSRP'\n",
        "plt.scatter(data['Popularity'], data['MSRP'])\n",
        "plt.title('Popularity vs MSRP')\n",
        "plt.xlabel('Popularity')\n",
        "plt.ylabel('MSRP')\n",
        "plt.show()"
      ],
      "metadata": {
        "colab": {
          "base_uri": "https://localhost:8080/",
          "height": 472
        },
        "id": "JpQbXV8lD_w-",
        "outputId": "07825f6d-5b54-4e01-c978-8a31e8f542df"
      },
      "execution_count": 14,
      "outputs": [
        {
          "output_type": "display_data",
          "data": {
            "text/plain": [
              "<Figure size 640x480 with 1 Axes>"
            ],
            "image/png": "[encoded data removed]"
          },
          "metadata": {}
        }
      ]
    },
    {
      "cell_type": "markdown",
      "source": [
        "The scatter plot illustrates the relationship between a vehicle's popularity and its MSRP. The scatter plot illustrates the relationship between a vehicle's popularity and its MSRP. There is no clear linear trend, personally, i would've anticipated a stronger correlation. Ther is considerable variability, which demonstrates that while it does play a role, other factors might be more significant."
      ],
      "metadata": {
        "id": "aHIYrIrH9n02"
      }
    },
    {
      "cell_type": "code",
      "source": [
        "# Box plot for 'MSRP'\n",
        "sns.boxplot(y=data['MSRP'])\n",
        "plt.title('Box Plot of MSRP')\n",
        "plt.ylabel('MSRP')\n",
        "plt.show()"
      ],
      "metadata": {
        "colab": {
          "base_uri": "https://localhost:8080/",
          "height": 433
        },
        "id": "vTXve6FRET4W",
        "outputId": "25663a5b-aadd-4c10-9468-5aabc952f0f5"
      },
      "execution_count": 15,
      "outputs": [
        {
          "output_type": "display_data",
          "data": {
            "text/plain": [
              "<Figure size 640x480 with 1 Axes>"
            ],
            "image/png": "[encoded data removed]"
          },
          "metadata": {}
        }
      ]
    },
    {
      "cell_type": "markdown",
      "source": [
        "The boxplot shows the distribution of the Manufacturer's Suggested Retail Price (MSRP) for vehicles in the dataset, highlighting the median, quartiles, and potential outliers."
      ],
      "metadata": {
        "id": "Vhp11hQF2Cbx"
      }
    },
    {
      "cell_type": "markdown",
      "source": [
        "The code below identifies the outliers in the MSRP range"
      ],
      "metadata": {
        "id": "p-Idaf352EhF"
      }
    },
    {
      "cell_type": "code",
      "source": [
        "Q1 = data['MSRP'].quantile(0.25)\n",
        "Q3 = data['MSRP'].quantile(0.75)\n",
        "IQR = Q3 - Q1\n",
        "# Define bounds for outliers\n",
        "lower_bound = Q1 - 1.5 * IQR\n",
        "upper_bound = Q3 + 1.5 * IQR\n",
        "# Filter out the outliers\n",
        "data = data[(data['MSRP'] >= lower_bound) & (data['MSRP'] <= upper_bound)]"
      ],
      "metadata": {
        "id": "1Nn-YmgJc78V"
      },
      "execution_count": 16,
      "outputs": []
    },
    {
      "cell_type": "markdown",
      "source": [
        "# 3. Modeling\n",
        "\n",
        "\n",
        "# 1st model, explanatory variable: Popularity"
      ],
      "metadata": {
        "id": "DbIkCpcREPNn"
      }
    },
    {
      "cell_type": "code",
      "source": [
        "from sklearn.linear_model import LinearRegression\n",
        "from sklearn.metrics import mean_squared_error\n",
        "\n",
        "# Simple model 1 using 'Engine HP'\n",
        "model_1 = LinearRegression()\n",
        "model_1.fit(X_train[['Popularity']], y_train)\n",
        "\n",
        "# Predict MSRP using the first model\n",
        "y_pred_1 = model_1.predict(X_test[['Popularity']])\n",
        "\n",
        "# Calculate the SSE for the first model\n",
        "sse_1 = mean_squared_error(y_test, y_pred_1) * len(y_test)\n",
        "print(f\"Sum of Squared Errors (SSE) for the first model: {sse_1}\")\n",
        "\n",
        "# The coefficient for 'Engine HP'\n",
        "coef_engine_hp = model_1.coef_[0]\n",
        "print(f\"Coefficient for 'Popularity': {coef_engine_hp}\")\n",
        "\n",
        "# Output the model\n",
        "model_1"
      ],
      "metadata": {
        "colab": {
          "base_uri": "https://localhost:8080/",
          "height": 110
        },
        "id": "B4kutCFKEgY9",
        "outputId": "b9980bfe-1124-4c68-a8a0-31c52341a9a6"
      },
      "execution_count": null,
      "outputs": [
        {
          "output_type": "stream",
          "name": "stdout",
          "text": [
            "Sum of Squared Errors (SSE) for the first model: 5670697069877.8\n",
            "Coefficient for 'Popularity': -2.1142185576280346\n"
          ]
        },
        {
          "output_type": "execute_result",
          "data": {
            "text/plain": [
              "LinearRegression()"
            ],
            "text/html": [
              "<style>#sk-container-id-5 {color: black;background-color: white;}#sk-container-id-5 pre{padding: 0;}#sk-container-id-5 div.sk-toggleable {background-color: white;}#sk-container-id-5 label.sk-toggleable__label {cursor: pointer;display: block;width: 100%;margin-bottom: 0;padding: 0.3em;box-sizing: border-box;text-align: center;}#sk-container-id-5 label.sk-toggleable__label-arrow:before {content: \"▸\";float: left;margin-right: 0.25em;color: #696969;}#sk-container-id-5 label.sk-toggleable__label-arrow:hover:before {color: black;}#sk-container-id-5 div.sk-estimator:hover label.sk-toggleable__label-arrow:before {color: black;}#sk-container-id-5 div.sk-toggleable__content {max-height: 0;max-width: 0;overflow: hidden;text-align: left;background-color: #f0f8ff;}#sk-container-id-5 div.sk-toggleable__content pre {margin: 0.2em;color: black;border-radius: 0.25em;background-color: #f0f8ff;}#sk-container-id-5 input.sk-toggleable__control:checked~div.sk-toggleable__content {max-height: 200px;max-width: 100%;overflow: auto;}#sk-container-id-5 input.sk-toggleable__control:checked~label.sk-toggleable__label-arrow:before {content: \"▾\";}#sk-container-id-5 div.sk-estimator input.sk-toggleable__control:checked~label.sk-toggleable__label {background-color: #d4ebff;}#sk-container-id-5 div.sk-label input.sk-toggleable__control:checked~label.sk-toggleable__label {background-color: #d4ebff;}#sk-container-id-5 input.sk-hidden--visually {border: 0;clip: rect(1px 1px 1px 1px);clip: rect(1px, 1px, 1px, 1px);height: 1px;margin: -1px;overflow: hidden;padding: 0;position: absolute;width: 1px;}#sk-container-id-5 div.sk-estimator {font-family: monospace;background-color: #f0f8ff;border: 1px dotted black;border-radius: 0.25em;box-sizing: border-box;margin-bottom: 0.5em;}#sk-container-id-5 div.sk-estimator:hover {background-color: #d4ebff;}#sk-container-id-5 div.sk-parallel-item::after {content: \"\";width: 100%;border-bottom: 1px solid gray;flex-grow: 1;}#sk-container-id-5 div.sk-label:hover label.sk-toggleable__label {background-color: #d4ebff;}#sk-container-id-5 div.sk-serial::before {content: \"\";position: absolute;border-left: 1px solid gray;box-sizing: border-box;top: 0;bottom: 0;left: 50%;z-index: 0;}#sk-container-id-5 div.sk-serial {display: flex;flex-direction: column;align-items: center;background-color: white;padding-right: 0.2em;padding-left: 0.2em;position: relative;}#sk-container-id-5 div.sk-item {position: relative;z-index: 1;}#sk-container-id-5 div.sk-parallel {display: flex;align-items: stretch;justify-content: center;background-color: white;position: relative;}#sk-container-id-5 div.sk-item::before, #sk-container-id-5 div.sk-parallel-item::before {content: \"\";position: absolute;border-left: 1px solid gray;box-sizing: border-box;top: 0;bottom: 0;left: 50%;z-index: -1;}#sk-container-id-5 div.sk-parallel-item {display: flex;flex-direction: column;z-index: 1;position: relative;background-color: white;}#sk-container-id-5 div.sk-parallel-item:first-child::after {align-self: flex-end;width: 50%;}#sk-container-id-5 div.sk-parallel-item:last-child::after {align-self: flex-start;width: 50%;}#sk-container-id-5 div.sk-parallel-item:only-child::after {width: 0;}#sk-container-id-5 div.sk-dashed-wrapped {border: 1px dashed gray;margin: 0 0.4em 0.5em 0.4em;box-sizing: border-box;padding-bottom: 0.4em;background-color: white;}#sk-container-id-5 div.sk-label label {font-family: monospace;font-weight: bold;display: inline-block;line-height: 1.2em;}#sk-container-id-5 div.sk-label-container {text-align: center;}#sk-container-id-5 div.sk-container {/* jupyter's `normalize.less` sets `[hidden] { display: none; }` but bootstrap.min.css set `[hidden] { display: none !important; }` so we also need the `!important` here to be able to override the default hidden behavior on the sphinx rendered scikit-learn.org. See: https://github.com/scikit-learn/scikit-learn/issues/21755 */display: inline-block !important;position: relative;}#sk-container-id-5 div.sk-text-repr-fallback {display: none;}</style><div id=\"sk-container-id-5\" class=\"sk-top-container\"><div class=\"sk-text-repr-fallback\"><pre>LinearRegression()</pre><b>In a Jupyter environment, please rerun this cell to show the HTML representation or trust the notebook. <br />On GitHub, the HTML representation is unable to render, please try loading this page with nbviewer.org.</b></div><div class=\"sk-container\" hidden><div class=\"sk-item\"><div class=\"sk-estimator sk-toggleable\"><input class=\"sk-toggleable__control sk-hidden--visually\" id=\"sk-estimator-id-5\" type=\"checkbox\" checked><label for=\"sk-estimator-id-5\" class=\"sk-toggleable__label sk-toggleable__label-arrow\">LinearRegression</label><div class=\"sk-toggleable__content\"><pre>LinearRegression()</pre></div></div></div></div></div>"
            ]
          },
          "metadata": {},
          "execution_count": 103
        }
      ]
    },
    {
      "cell_type": "markdown",
      "source": [
        "The coefficient for 'Popularity' is approximately -2.11, which implies that as the popularity of a vehicle increases by one unit, the MSRP decreases by approximately $2.11, holding all other factors constant.\n",
        "\n"
      ],
      "metadata": {
        "id": "h6eNWndKFVkd"
      }
    },
    {
      "cell_type": "markdown",
      "source": [
        "# 2nd Model, explanatory variable: city mpg"
      ],
      "metadata": {
        "id": "ygJ8fsqe2dTP"
      }
    },
    {
      "cell_type": "code",
      "source": [
        "if 'city mpg' not in X_train.columns:\n",
        "    print(X_train.columns)"
      ],
      "metadata": {
        "colab": {
          "base_uri": "https://localhost:8080/"
        },
        "id": "bIDchNPtarMd",
        "outputId": "8a6baa34-6aef-4982-f705-58fa37643e0c"
      },
      "execution_count": null,
      "outputs": [
        {
          "output_type": "stream",
          "name": "stdout",
          "text": [
            "Index(['const', 'Popularity', 'log_Engine_HP', 'Year', 'log_city_mpg'], dtype='object')\n"
          ]
        }
      ]
    },
    {
      "cell_type": "code",
      "source": [
        "# Simple model 2 using 'city mpg'\n",
        "model_2 = LinearRegression()\n",
        "model_2.fit(X_train[['log_city_mpg']], y_train)\n",
        "\n",
        "# Predict MSRP using the second model\n",
        "y_pred_2 = model_2.predict(X_test[['log_city_mpg']])\n",
        "\n",
        "sse_2 = mean_squared_error(y_test, y_pred_2) * len(y_test)\n",
        "print(f\"Sum of Squared Errors (SSE) for the second model: {sse_2}\")\n",
        "\n",
        "# The coefficient for 'city mpg'\n",
        "coef_city_mpg = model_2.coef_[0]\n",
        "print(f\"Coefficient for 'log_city_mpg': {coef_city_mpg}\")\n",
        "\n",
        "# Output the model\n",
        "model_2"
      ],
      "metadata": {
        "colab": {
          "base_uri": "https://localhost:8080/",
          "height": 110
        },
        "id": "GYkQhdSLEy_q",
        "outputId": "fbe05882-1c2b-49a2-e0f2-951cc9cb27d2"
      },
      "execution_count": null,
      "outputs": [
        {
          "output_type": "stream",
          "name": "stdout",
          "text": [
            "Sum of Squared Errors (SSE) for the second model: 5252535122685.631\n",
            "Coefficient for 'log_city_mpg': -64426.07148508876\n"
          ]
        },
        {
          "output_type": "execute_result",
          "data": {
            "text/plain": [
              "LinearRegression()"
            ],
            "text/html": [
              "<style>#sk-container-id-6 {color: black;background-color: white;}#sk-container-id-6 pre{padding: 0;}#sk-container-id-6 div.sk-toggleable {background-color: white;}#sk-container-id-6 label.sk-toggleable__label {cursor: pointer;display: block;width: 100%;margin-bottom: 0;padding: 0.3em;box-sizing: border-box;text-align: center;}#sk-container-id-6 label.sk-toggleable__label-arrow:before {content: \"▸\";float: left;margin-right: 0.25em;color: #696969;}#sk-container-id-6 label.sk-toggleable__label-arrow:hover:before {color: black;}#sk-container-id-6 div.sk-estimator:hover label.sk-toggleable__label-arrow:before {color: black;}#sk-container-id-6 div.sk-toggleable__content {max-height: 0;max-width: 0;overflow: hidden;text-align: left;background-color: #f0f8ff;}#sk-container-id-6 div.sk-toggleable__content pre {margin: 0.2em;color: black;border-radius: 0.25em;background-color: #f0f8ff;}#sk-container-id-6 input.sk-toggleable__control:checked~div.sk-toggleable__content {max-height: 200px;max-width: 100%;overflow: auto;}#sk-container-id-6 input.sk-toggleable__control:checked~label.sk-toggleable__label-arrow:before {content: \"▾\";}#sk-container-id-6 div.sk-estimator input.sk-toggleable__control:checked~label.sk-toggleable__label {background-color: #d4ebff;}#sk-container-id-6 div.sk-label input.sk-toggleable__control:checked~label.sk-toggleable__label {background-color: #d4ebff;}#sk-container-id-6 input.sk-hidden--visually {border: 0;clip: rect(1px 1px 1px 1px);clip: rect(1px, 1px, 1px, 1px);height: 1px;margin: -1px;overflow: hidden;padding: 0;position: absolute;width: 1px;}#sk-container-id-6 div.sk-estimator {font-family: monospace;background-color: #f0f8ff;border: 1px dotted black;border-radius: 0.25em;box-sizing: border-box;margin-bottom: 0.5em;}#sk-container-id-6 div.sk-estimator:hover {background-color: #d4ebff;}#sk-container-id-6 div.sk-parallel-item::after {content: \"\";width: 100%;border-bottom: 1px solid gray;flex-grow: 1;}#sk-container-id-6 div.sk-label:hover label.sk-toggleable__label {background-color: #d4ebff;}#sk-container-id-6 div.sk-serial::before {content: \"\";position: absolute;border-left: 1px solid gray;box-sizing: border-box;top: 0;bottom: 0;left: 50%;z-index: 0;}#sk-container-id-6 div.sk-serial {display: flex;flex-direction: column;align-items: center;background-color: white;padding-right: 0.2em;padding-left: 0.2em;position: relative;}#sk-container-id-6 div.sk-item {position: relative;z-index: 1;}#sk-container-id-6 div.sk-parallel {display: flex;align-items: stretch;justify-content: center;background-color: white;position: relative;}#sk-container-id-6 div.sk-item::before, #sk-container-id-6 div.sk-parallel-item::before {content: \"\";position: absolute;border-left: 1px solid gray;box-sizing: border-box;top: 0;bottom: 0;left: 50%;z-index: -1;}#sk-container-id-6 div.sk-parallel-item {display: flex;flex-direction: column;z-index: 1;position: relative;background-color: white;}#sk-container-id-6 div.sk-parallel-item:first-child::after {align-self: flex-end;width: 50%;}#sk-container-id-6 div.sk-parallel-item:last-child::after {align-self: flex-start;width: 50%;}#sk-container-id-6 div.sk-parallel-item:only-child::after {width: 0;}#sk-container-id-6 div.sk-dashed-wrapped {border: 1px dashed gray;margin: 0 0.4em 0.5em 0.4em;box-sizing: border-box;padding-bottom: 0.4em;background-color: white;}#sk-container-id-6 div.sk-label label {font-family: monospace;font-weight: bold;display: inline-block;line-height: 1.2em;}#sk-container-id-6 div.sk-label-container {text-align: center;}#sk-container-id-6 div.sk-container {/* jupyter's `normalize.less` sets `[hidden] { display: none; }` but bootstrap.min.css set `[hidden] { display: none !important; }` so we also need the `!important` here to be able to override the default hidden behavior on the sphinx rendered scikit-learn.org. See: https://github.com/scikit-learn/scikit-learn/issues/21755 */display: inline-block !important;position: relative;}#sk-container-id-6 div.sk-text-repr-fallback {display: none;}</style><div id=\"sk-container-id-6\" class=\"sk-top-container\"><div class=\"sk-text-repr-fallback\"><pre>LinearRegression()</pre><b>In a Jupyter environment, please rerun this cell to show the HTML representation or trust the notebook. <br />On GitHub, the HTML representation is unable to render, please try loading this page with nbviewer.org.</b></div><div class=\"sk-container\" hidden><div class=\"sk-item\"><div class=\"sk-estimator sk-toggleable\"><input class=\"sk-toggleable__control sk-hidden--visually\" id=\"sk-estimator-id-6\" type=\"checkbox\" checked><label for=\"sk-estimator-id-6\" class=\"sk-toggleable__label sk-toggleable__label-arrow\">LinearRegression</label><div class=\"sk-toggleable__content\"><pre>LinearRegression()</pre></div></div></div></div></div>"
            ]
          },
          "metadata": {},
          "execution_count": 115
        }
      ]
    },
    {
      "cell_type": "markdown",
      "source": [
        "The coefficient for 'log_city_mpg' is roughly -64426.87, indicating a substantial negative impact on MSRP with increased fuel efficiency in the city. In other words, a 1% increase in city mpg (as measured on a logarithmic scale) is associated with a decrease of approximately $644.27 in MSRP, all else being equal."
      ],
      "metadata": {
        "id": "pYlFYFINEBp9"
      }
    },
    {
      "cell_type": "markdown",
      "source": [
        "# Forward/Backward  variable selection\n",
        "\n",
        "Import necessary libraries"
      ],
      "metadata": {
        "id": "j_caeQhZEKmf"
      }
    },
    {
      "cell_type": "code",
      "source": [
        "import pandas as pd\n",
        "import numpy as np\n",
        "import matplotlib.pyplot as plt\n",
        "from statsmodels.regression.linear_model import OLS\n",
        "import statsmodels.api as sm"
      ],
      "metadata": {
        "id": "rQ6y0f3LEObV"
      },
      "execution_count": null,
      "outputs": []
    },
    {
      "cell_type": "markdown",
      "source": [
        "#forward selection\n",
        "\n",
        "Begins with an empty model and adds variables one by one. . In each step, the variable that has the most significant improvement to the model fit is added."
      ],
      "metadata": {
        "id": "GdpEdmIwSMbw"
      }
    },
    {
      "cell_type": "code",
      "source": [
        "import pandas as pd\n",
        "import statsmodels.api as sm\n",
        "from sklearn.model_selection import train_test_split\n",
        "\n",
        "# Assuming df is your DataFrame and 'MSRP' is your target column\n",
        "\n",
        "# Forward Selection Function\n",
        "def forward_selection(data, target_variable, columns_to_include):\n",
        "    remaining_features = columns_to_include[:]\n",
        "    best_features = []\n",
        "    while remaining_features:\n",
        "        pval = pd.Series(index=remaining_features, dtype='float')\n",
        "        for feature in remaining_features:\n",
        "            X = data[best_features + [feature]]\n",
        "            X_with_constant = sm.add_constant(X)\n",
        "            model = sm.OLS(data[target_variable], X_with_constant).fit()\n",
        "            pval[feature] = model.pvalues[feature]\n",
        "        min_pval_feature = pval.idxmin()\n",
        "        if pval.min() < 0.05:\n",
        "            best_features.append(min_pval_feature)\n",
        "            remaining_features.remove(min_pval_feature)\n",
        "        else:\n",
        "            break\n",
        "    return best_features\n",
        "\n",
        "# Define the columns to include in the model\n",
        "columns_to_include = ['Year', 'Engine HP', 'Engine Cylinders', 'Number of Doors',\n",
        "                      'highway MPG', 'city mpg', 'Popularity']\n",
        "\n",
        "# Apply forward selection to the data\n",
        "selected_features_forward = forward_selection(data, 'MSRP', columns_to_include)\n",
        "\n",
        "print(selected_features_forward)\n"
      ],
      "metadata": {
        "id": "uCBh877ZG8D6",
        "colab": {
          "base_uri": "https://localhost:8080/"
        },
        "outputId": "3e8989e5-547b-4a33-b334-20b56eb308e7"
      },
      "execution_count": null,
      "outputs": [
        {
          "output_type": "stream",
          "name": "stdout",
          "text": [
            "['Year', 'Engine HP', 'Popularity', 'Engine Cylinders', 'city mpg', 'Number of Doors']\n"
          ]
        }
      ]
    },
    {
      "cell_type": "markdown",
      "source": [
        "# Backward selection\n",
        "\n",
        "Begins with a full model and removes the least significant variable one by one."
      ],
      "metadata": {
        "id": "CQsfjDJ4SNG2"
      }
    },
    {
      "cell_type": "code",
      "source": [
        "def backward_selection(data, target_variable, columns_to_include):\n",
        "    features = columns_to_include[:]\n",
        "    while len(features) > 0:\n",
        "        # Add a constant to the features\n",
        "        features_with_constant = sm.add_constant(data[features])\n",
        "        # Fit the model\n",
        "        model = sm.OLS(data[target_variable], features_with_constant).fit()\n",
        "        # Get the p-values for our features only, excluding the constant\n",
        "        p_values = model.pvalues.iloc[1:]\n",
        "        # Find the max p-value and the associated feature\n",
        "        max_p_value = p_values.max()\n",
        "        if max_p_value >= 0.05:\n",
        "            # Get the name of the feature with the max p-value\n",
        "            excluded_feature = p_values.idxmax()\n",
        "            # Remove the feature from our list\n",
        "            features.remove(excluded_feature)\n",
        "        else:\n",
        "            break\n",
        "    return features\n",
        "\n",
        "# Now let's run the selection with your data\n",
        "selected_features_backwards = backward_selection(data, 'MSRP', columns_to_include)\n",
        "print(selected_features_backwards)\n",
        "\n"
      ],
      "metadata": {
        "id": "OPDrlSDfMCGl",
        "colab": {
          "base_uri": "https://localhost:8080/"
        },
        "outputId": "0199e01a-4481-4c0c-dd77-adfc0cdd3c25"
      },
      "execution_count": null,
      "outputs": [
        {
          "output_type": "stream",
          "name": "stdout",
          "text": [
            "['Year', 'Engine HP', 'Engine Cylinders', 'Number of Doors', 'city mpg', 'Popularity']\n"
          ]
        }
      ]
    },
    {
      "cell_type": "markdown",
      "source": [
        "# SSE and graph"
      ],
      "metadata": {
        "id": "Z55aCm6dn00V"
      }
    },
    {
      "cell_type": "code",
      "source": [
        "# First, define a function to calculate SSE for a given set of features\n",
        "def calculate_sse(data, features, target):\n",
        "    model = sm.OLS(target, sm.add_constant(data[features])).fit()\n",
        "    sse = np.sum(model.resid ** 2)\n",
        "    return sse\n",
        "\n",
        "# Now, calculate SSEs for forward and backward selection\n",
        "forward_sses = [calculate_sse(data, selected_features_forward[:i+1], data['MSRP']) for i in range(len(selected_features_forward))]\n",
        "backward_sses = [calculate_sse(data, selected_features_backwards[:i+1], data['MSRP']) for i in range(len(selected_features_backwards))]\n",
        "\n",
        "# Create a DataFrame for the SSEs\n",
        "sse_df = pd.DataFrame({\n",
        "    'Number of Features': list(range(1, len(selected_features_forward) + 1)),\n",
        "    'SSE Forward': forward_sses,\n",
        "    'SSE Backward': backward_sses\n",
        "})\n",
        "\n",
        "# Display the DataFrame\n",
        "print(sse_df)\n",
        "\n",
        "# Now plot the SSEs\n",
        "import matplotlib.pyplot as plt\n",
        "\n",
        "plt.figure(figsize=(10, 6))\n",
        "plt.plot(sse_df['Number of Features'], sse_df['SSE Forward'], label='Forward Selection SSE')\n",
        "plt.plot(sse_df['Number of Features'], sse_df['SSE Backward'], label='Backward Selection SSE', linestyle='--')\n",
        "plt.xlabel('Number of Features')\n",
        "plt.ylabel('SSE')\n",
        "plt.legend()\n",
        "plt.title('SSE by Number of Features Selected')\n",
        "plt.show()\n",
        "\n",
        "\n",
        "\n"
      ],
      "metadata": {
        "colab": {
          "base_uri": "https://localhost:8080/",
          "height": 685
        },
        "id": "lWGqqyfWtiJR",
        "outputId": "6cbfa1ad-3946-4bdf-fc66-679489385be2"
      },
      "execution_count": null,
      "outputs": [
        {
          "output_type": "stream",
          "name": "stdout",
          "text": [
            "   Number of Features   SSE Forward  SSE Backward\n",
            "0                   1  1.428978e+12  1.428978e+12\n",
            "1                   2  7.276278e+11  7.276278e+11\n",
            "2                   3  7.184483e+11  7.212714e+11\n",
            "3                   4  7.133324e+11  7.186274e+11\n",
            "4                   5  7.113305e+11  7.170072e+11\n",
            "5                   6  7.096734e+11  7.096734e+11\n"
          ]
        },
        {
          "output_type": "display_data",
          "data": {
            "text/plain": [
              "<Figure size 1000x600 with 1 Axes>"
            ],
            "image/png": "[encoded data removed]"
          },
          "metadata": {}
        }
      ]
    },
    {
      "cell_type": "markdown",
      "source": [
        "# Final Regression Model\n"
      ],
      "metadata": {
        "id": "Jn1iB08kx8HW"
      }
    },
    {
      "cell_type": "code",
      "source": [
        "import numpy as np\n",
        "import statsmodels.api as sm\n",
        "\n",
        "# Selected features\n",
        "features_to_use = ['Popularity', 'Engine HP', 'Year', 'city mpg']\n",
        "\n",
        "# Applying a log transformation to the 'Engine HP' and 'city mpg' features to check for improvement\n",
        "# If any of these features can be zero, you should add a constant before taking the log\n",
        "data['log_Engine_HP'] = np.log(data['Engine HP'] + 1)  # Adding 1 to avoid log(0)\n",
        "data['log_city_mpg'] = np.log(data['city mpg'] + 1)\n",
        "\n",
        "#  new list with the transformed features\n",
        "transformed_features_to_use = ['Popularity', 'log_Engine_HP', 'Year', 'log_city_mpg',]\n",
        "\n",
        "# Building the final model\n",
        "X = sm.add_constant(data[transformed_features_to_use])\n",
        "y = data['MSRP']\n",
        "final_model = sm.OLS(y, X).fit()\n",
        "\n",
        "# Display the regression results\n",
        "print(final_model.summary())\n",
        "\n",
        "# Calculate the SSE\n",
        "sse_final = np.sum(final_model.resid ** 2)\n",
        "print(f'SSE of the final model: {sse_final}')\n"
      ],
      "metadata": {
        "colab": {
          "base_uri": "https://localhost:8080/"
        },
        "id": "zYLLjR1iSdIH",
        "outputId": "c53fd4b1-58b0-4c8b-be34-8bc22774b611"
      },
      "execution_count": null,
      "outputs": [
        {
          "output_type": "stream",
          "name": "stdout",
          "text": [
            "                            OLS Regression Results                            \n",
            "==============================================================================\n",
            "Dep. Variable:                   MSRP   R-squared:                       0.710\n",
            "Model:                            OLS   Adj. R-squared:                  0.710\n",
            "Method:                 Least Squares   F-statistic:                     6258.\n",
            "Date:                Sun, 05 Nov 2023   Prob (F-statistic):               0.00\n",
            "Time:                        21:33:19   Log-Likelihood:            -1.0724e+05\n",
            "No. Observations:               10239   AIC:                         2.145e+05\n",
            "Df Residuals:                   10234   BIC:                         2.145e+05\n",
            "Df Model:                           4                                         \n",
            "Covariance Type:            nonrobust                                         \n",
            "=================================================================================\n",
            "                    coef    std err          t      P>|t|      [0.025      0.975]\n",
            "---------------------------------------------------------------------------------\n",
            "const         -1.875e+06   2.94e+04    -63.737      0.000   -1.93e+06   -1.82e+06\n",
            "Popularity       -0.5669      0.058     -9.730      0.000      -0.681      -0.453\n",
            "log_Engine_HP  2.725e+04    348.970     78.077      0.000    2.66e+04    2.79e+04\n",
            "Year            866.1925     15.592     55.553      0.000     835.629     896.756\n",
            "log_city_mpg   5617.3421    446.278     12.587      0.000    4742.549    6492.135\n",
            "==============================================================================\n",
            "Omnibus:                      603.298   Durbin-Watson:                   0.551\n",
            "Prob(Omnibus):                  0.000   Jarque-Bera (JB):              791.112\n",
            "Skew:                           0.556   Prob(JB):                    1.63e-172\n",
            "Kurtosis:                       3.787   Cond. No.                     9.52e+05\n",
            "==============================================================================\n",
            "\n",
            "Notes:\n",
            "[1] Standard Errors assume that the covariance matrix of the errors is correctly specified.\n",
            "[2] The condition number is large, 9.52e+05. This might indicate that there are\n",
            "strong multicollinearity or other numerical problems.\n",
            "SSE of the final model: 750595182714.175\n"
          ]
        }
      ]
    },
    {
      "cell_type": "markdown",
      "source": [
        "# conclusion:\n",
        "\n",
        "Our Regression Model achieved an R-squared value of 0.71, indicating that 71% of the variability can be explained by the model's predictors. This does give me some confidence on the model i built.\n",
        "\n",
        "\n",
        "The next steps would be to address the non-normality of residuals that could affect the robustness of hypothesis tests and confidence intervals derived from the model. Also, i am worried about the potential for multicollinearity, indicated by a high condition number.\n",
        "\n",
        "I would've liked to have done a better job at improving Data Processing, i am not very confident that i've done this optimally.\n",
        "\n",
        "\n",
        "What i would tell bussiness leaderhsip:\n",
        "\n",
        "To the business leadership in the automotive industry, I would convey that our model underscores the significant impact of vehicle popularity, horsepower, recent production year, and fuel efficiency on pricing strategies. These factors should be key considerations in setting and adjusting the MSRP of vehicles. However, I would also stress the need for caution due to the model's current limitations and the importance of further analysis to ensure that decisions are made on the most reliable predictive ground possible.\n",
        "\n",
        "\n",
        "\n"
      ],
      "metadata": {
        "id": "RYXQtWOwze6v"
      }
    }
  ]
}